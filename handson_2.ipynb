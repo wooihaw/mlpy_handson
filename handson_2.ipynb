{
 "cells": [
  {
   "cell_type": "markdown",
   "id": "1d079f52-b185-45b0-8221-0c68695250e8",
   "metadata": {},
   "source": [
    "# Hands-on 2\n",
    "### The Olivetti faces dataset\n",
    "This dataset contains a set of face images taken at AT&T Laboratories Cambridge. There are ten different images of each of 40 distinct subjects.\n",
    "|Attribute|Value|\n",
    "|:------|:-|\n",
    "|Classes|40|\n",
    "|Samples total|400|\n",
    "|Dimensionality|4096|\n",
    "|Features| real, between 0 and 1|"
   ]
  },
  {
   "cell_type": "code",
   "execution_count": null,
   "id": "9ac99228-0af2-4532-b71a-78c115a59f34",
   "metadata": {},
   "outputs": [],
   "source": [
    "# Initialization\n",
    "%matplotlib inline\n",
    "from warnings import filterwarnings\n",
    "filterwarnings(\"ignore\")"
   ]
  },
  {
   "cell_type": "code",
   "execution_count": null,
   "id": "832d0a14-fd62-4146-8f68-65ece76bf0a8",
   "metadata": {},
   "outputs": [],
   "source": [
    "# Import necessary libraries\n",
    "import numpy as np\n",
    "import matplotlib.pyplot as plt\n",
    "from random import randint\n",
    "from sklearn.datasets import fetch_olivetti_faces\n",
    "from sklearn.metrics import classification_report, ConfusionMatrixDisplay\n",
    "from sklearn.model_selection import train_test_split as split, GridSearchCV\n",
    "from sklearn.preprocessing import StandardScaler, MinMaxScaler, RobustScaler\n",
    "from sklearn.decomposition import PCA\n",
    "from sklearn.pipeline import Pipeline\n",
    "from sklearn.tree import DecisionTreeClassifier\n",
    "from sklearn.ensemble import RandomForestClassifier, GradientBoostingClassifier\n",
    "from sklearn.neighbors import KNeighborsClassifier\n",
    "from sklearn.linear_model import LogisticRegression\n",
    "from sklearn.svm import SVC\n",
    "from sklearn.neural_network import MLPClassifier\n",
    "\n",
    "# Load the Olivetti faces dataset\n",
    "data = fetch_olivetti_faces()\n",
    "X = data.images  # Images data\n",
    "y = data.target  # Target labels\n",
    "\n",
    "# Reshape the images data to 2D array (flatten the images)\n",
    "n_samples, h, w = X.shape\n",
    "X = X.reshape(n_samples, h * w)\n",
    "\n",
    "# Function to plot original and reconstructed images\n",
    "def plot_faces(original, n=10):\n",
    "    rn = [randint(0, 399) for _ in range(n)]\n",
    "    plt.figure(figsize=(20, 4))\n",
    "    for i in range(n):\n",
    "        # Original faces\n",
    "        ax = plt.subplot(2, n, i + 1)\n",
    "        plt.imshow(original[rn[i]].reshape((h, w)), cmap='gray')\n",
    "        plt.title(y[rn[i]])\n",
    "        plt.axis('off')\n",
    "    plt.show()\n",
    "    \n",
    "# Plot some of the faces before and after PCA transformation\n",
    "plot_faces(X, n=10)"
   ]
  },
  {
   "cell_type": "markdown",
   "id": "8f153d69-8388-4b6e-9579-8a998bcab2ac",
   "metadata": {},
   "source": [
    "To do: \n",
    "  - Split the dataset into training (70%) and testing (30%) sets.\n",
    "  - Train a knn model (using default settings).\n",
    "  - Evaluate its performance using the testing set and print the score."
   ]
  },
  {
   "cell_type": "code",
   "execution_count": null,
   "id": "403ff14e-dd17-4ded-8fb3-fedf5b18d49c",
   "metadata": {},
   "outputs": [],
   "source": []
  },
  {
   "cell_type": "markdown",
   "id": "e126274b-8298-4f94-9186-2fc1e7b8cdd0",
   "metadata": {},
   "source": [
    "To do: \n",
    "  - Construct a pipeline with two steps: dimensionality reduction using PCA ('dr') and classification ('clf').\n",
    "  - Use gridsearch to search for the best process for each steps as follows:\n",
    "    - dimensionality reduction with PCA: 50 to 200 principal components (with an interval of 50).\n",
    "    - classification:  kNN, logistic regression, decision tree, random forest, support vector machine and multilayer perceptron\n",
    "    - Use default settings for all the classifiers."
   ]
  },
  {
   "cell_type": "code",
   "execution_count": null,
   "id": "2a0df770-3e29-4de5-b692-38f46d0636ff",
   "metadata": {},
   "outputs": [],
   "source": []
  },
  {
   "cell_type": "markdown",
   "id": "e3507723-ed69-4ba6-8b7a-80149e8ad60e",
   "metadata": {},
   "source": [
    "To do: \n",
    "- Print the best parameters\n",
    "- Store the best model as 'model'.\n",
    "- Evaluate the best model using the testing set and print the score."
   ]
  },
  {
   "cell_type": "code",
   "execution_count": null,
   "id": "85ac84db-1d06-4ce2-8cf9-ac635c5237f8",
   "metadata": {},
   "outputs": [],
   "source": []
  },
  {
   "cell_type": "markdown",
   "id": "7eb358ed-95d9-4cfd-b998-8a70a8d63013",
   "metadata": {},
   "source": [
    "To do:\n",
    "- Print classification report for the best model"
   ]
  },
  {
   "cell_type": "code",
   "execution_count": null,
   "id": "7d6f518c-4609-478c-99d8-863605b8966d",
   "metadata": {},
   "outputs": [],
   "source": []
  }
 ],
 "metadata": {
  "kernelspec": {
   "display_name": "Python 3 (ipykernel)",
   "language": "python",
   "name": "python3"
  },
  "language_info": {
   "codemirror_mode": {
    "name": "ipython",
    "version": 3
   },
   "file_extension": ".py",
   "mimetype": "text/x-python",
   "name": "python",
   "nbconvert_exporter": "python",
   "pygments_lexer": "ipython3",
   "version": "3.12.4"
  }
 },
 "nbformat": 4,
 "nbformat_minor": 5
}
